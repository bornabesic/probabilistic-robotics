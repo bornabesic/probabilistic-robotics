{
 "cells": [
  {
   "cell_type": "markdown",
   "metadata": {},
   "source": [
    "# Linear algebra"
   ]
  },
  {
   "cell_type": "code",
   "execution_count": 55,
   "metadata": {},
   "outputs": [],
   "source": [
    "import numpy as np\n",
    "import matplotlib.pyplot as plt"
   ]
  },
  {
   "cell_type": "code",
   "execution_count": 56,
   "metadata": {},
   "outputs": [],
   "source": [
    "''' Matrix check operations '''\n",
    "\n",
    "def is_symmetric(matrix):\n",
    "    np.all(matrix == matrix.T)\n",
    "\n",
    "def is_orthogonal(matrix):\n",
    "    rows, cols = matrix.shape\n",
    "    if rows != cols:\n",
    "        return False\n",
    "    \n",
    "    P = matrix * matrix.T\n",
    "    I = np.identity(rows)\n",
    "\n",
    "    return np.allclose(P, I)"
   ]
  },
  {
   "cell_type": "markdown",
   "metadata": {},
   "source": [
    "The homogeneous transformation matrix that represents pose $ \\mathbf{p} = (x, y, \\theta)^T $ w.r.t. to the origin $ (0, 0, 0)^T $ of the global coordinate system is given by\n",
    "\n",
    "\\begin{equation}\n",
    "    \\mathbf{P} = \\begin{pmatrix}\n",
    "    \\cos{\\theta} & -\\sin{\\theta} & x \\\\\n",
    "    \\sin{\\theta} & \\cos{\\theta} & y \\\\\n",
    "    0 & 0 & 1\n",
    "    \\end{pmatrix}\n",
    "    = \\begin{pmatrix}\n",
    "    \\mathbf{R} & \\mathbf{t} \\\\\n",
    "    0 & 1 \\\\\n",
    "    \\end{pmatrix}\n",
    "\\end{equation}\n",
    "\n",
    "where\n",
    "\n",
    "\\begin{equation}\n",
    "    \\mathbf{R} = \\begin{pmatrix}\n",
    "    \\cos{\\theta} & -\\sin{\\theta} \\\\\n",
    "    \\sin{\\theta} & \\cos{\\theta} \\\\\n",
    "    \\end{pmatrix}\n",
    "\\end{equation}\n",
    "\\begin{equation}\n",
    "    \\mathbf{t} = \\begin{pmatrix}\n",
    "    x \\\\\n",
    "    y \\\\\n",
    "    \\end{pmatrix}\n",
    "\\end{equation}"
   ]
  },
  {
   "cell_type": "code",
   "execution_count": 57,
   "metadata": {},
   "outputs": [],
   "source": [
    "def system_matrix(x, y, theta):\n",
    "    cos = np.cos(theta)\n",
    "    sin = np.sin(theta)\n",
    "    return np.array([\n",
    "        [cos, -sin, x],\n",
    "        [sin,  cos, y],\n",
    "        [  0,    0, 1]\n",
    "    ])"
   ]
  },
  {
   "cell_type": "markdown",
   "metadata": {},
   "source": [
    "## Coordinate frame transformation\n",
    "\n",
    "\n",
    "### Local $ \\rightarrow $ global\n",
    "\n",
    "While being at pose $ \\mathbf{p_1} = (x_1 , y_1 , θ_1 )^T $, the robot senses a landmark at position\n",
    "$ \\mathbf{l} = (l_x , l_y) $ w.r.t. its local frame.\n",
    "\n",
    "Coordinates of $ \\mathbf{l} $ w.r.t. the global frame are then:\n",
    "\n",
    "\\begin{equation}\n",
    "    \\mathbf{l_{global}} = \\mathbf{P} \\cdot \\mathbf{l_{local}}\n",
    "\\end{equation}\n",
    "\n",
    "where $ \\mathbf{l_{local}} $ is a position vector of a landmark given by\n",
    "\n",
    "\n",
    "\\begin{equation}\n",
    "    \\mathbf{l_{local}} = \\begin{pmatrix}\n",
    "    l_x \\\\\n",
    "    l_y \\\\\n",
    "    1\n",
    "    \\end{pmatrix}\n",
    "\\end{equation}"
   ]
  },
  {
   "cell_type": "code",
   "execution_count": 58,
   "metadata": {},
   "outputs": [],
   "source": [
    "def position_vector(x, y):\n",
    "    return np.array([\n",
    "        x,\n",
    "        y,\n",
    "        1\n",
    "    ])"
   ]
  },
  {
   "cell_type": "code",
   "execution_count": 59,
   "metadata": {
    "scrolled": false
   },
   "outputs": [
    {
     "name": "stdout",
     "output_type": "stream",
     "text": [
      "Robot's coordinate frame matrix:\n",
      "[[ 1. -0.  4.]\n",
      " [ 0.  1.  2.]\n",
      " [ 0.  0.  1.]]\n",
      "Landmark's position vector:\n",
      "[-2  5  1]\n",
      "Landmark's global position:\n",
      "[2. 7. 1.]\n"
     ]
    },
    {
     "data": {
      "image/png": "[encoded data removed]",
      "text/plain": [
       "<Figure size 432x288 with 1 Axes>"
      ]
     },
     "metadata": {},
     "output_type": "display_data"
    }
   ],
   "source": [
    "# Robot\n",
    "x1, y1, theta1 = 4, 2, 0\n",
    "p1 = (x1, y1, theta1)\n",
    "P1 = system_matrix(*p1)\n",
    "print(\"Robot's coordinate frame matrix:\")\n",
    "print(P1)\n",
    "\n",
    "# Landmark w.r.t. robot's frame\n",
    "l_local = position_vector(-2, 5)\n",
    "print(\"Landmark's position vector:\")\n",
    "print(l_local)\n",
    "\n",
    "# Landmark w.r.t. global frame\n",
    "l_global = P1.dot(l_local)\n",
    "lx_global = l_global[0]\n",
    "ly_global = l_global[1]\n",
    "print(\"Landmark's global position:\")\n",
    "print(l_global)\n",
    "\n",
    "# Plot the global positions\n",
    "plt.scatter([x1], [y1], label = \"Robot\")\n",
    "plt.scatter([lx_global], [ly_global], label = \"Landmark\")\n",
    "\n",
    "plt.grid()\n",
    "plt.legend(loc = \"best\")\n",
    "plt.show()"
   ]
  },
  {
   "cell_type": "markdown",
   "metadata": {},
   "source": [
    "### Global $ \\rightarrow $ local\n",
    "\n",
    "Now imagine that you are given the landmark’s coordinates w.r.t. the global frame.\n",
    "The coordinates that the robot will sense in its local frame are then\n",
    "\n",
    "\\begin{equation}\n",
    "    \\mathbf{l_{local}} = \\mathbf{P}^{-1} \\cdot \\mathbf{l_{global}}\n",
    "\\end{equation}\n",
    "\n",
    "where the inverse of the system matrix is\n",
    "\n",
    "\\begin{equation}\n",
    "    \\mathbf{P}^{-1} = \\begin{pmatrix}\n",
    "    \\mathbf{R}^{T} & -\\mathbf{R}^{T}\\mathbf{t} \\\\\n",
    "    0 & 1 \\\\\n",
    "    \\end{pmatrix}\n",
    "\\end{equation}\n"
   ]
  },
  {
   "cell_type": "code",
   "execution_count": 60,
   "metadata": {},
   "outputs": [],
   "source": [
    "def inv_system_matrix(system_matrix):\n",
    "    R = system_matrix[0:2, 0:2]\n",
    "    t = system_matrix[0:2, 2]\n",
    "    \n",
    "    R_new = R.T\n",
    "    t_new = (-R.T).dot(t)\n",
    "    \n",
    "    return np.block([\n",
    "        [R_new, np.expand_dims(t_new, axis = 1)],\n",
    "        [0, 0, 1]\n",
    "    ])"
   ]
  },
  {
   "cell_type": "code",
   "execution_count": 61,
   "metadata": {
    "scrolled": false
   },
   "outputs": [
    {
     "name": "stdout",
     "output_type": "stream",
     "text": [
      "Landmark's position in the robot's frame:\n",
      "[-2.  5.  1.]\n"
     ]
    }
   ],
   "source": [
    "# Inverse of the robot's system matrix\n",
    "P1_inv = inv_system_matrix(P1)\n",
    "I = np.identity(P1.shape[0])\n",
    "\n",
    "# Make sure that P1_inv is really an inverse of P1\n",
    "assert np.allclose(P1.dot(P1_inv), I) \n",
    "\n",
    "l_global = position_vector(lx_global, ly_global)\n",
    "l_local = P1_inv.dot(l_global)\n",
    "print(\"Landmark's position in the robot's frame:\")\n",
    "print(l_local)"
   ]
  },
  {
   "cell_type": "markdown",
   "metadata": {},
   "source": [
    "### Robot's movement\n",
    "\n",
    "The robot moves to a new pose $ \\mathbf{p_2} = (x_2 , y_2 , \\theta_2)^T $ w.r.t. the global frame. Now, we want to find the transformation matrix $ \\mathbf{T_{12}} $ that represents the new pose $ \\mathbf{p_2} $ w.r.t. $ \\mathbf{p_1} $. \n",
    "\n",
    "\\begin{equation}\n",
    "    \\mathbf{P_2} = \\mathbf{T_{12}} \\cdot \\mathbf{P_1}\n",
    "\\end{equation}\n",
    "\n",
    "In order to do that we are going to write $ \\mathbf{T_{12}} $ as a product of homogeneous transformation matrices.\n",
    "\n",
    "\n",
    "\\begin{equation}\n",
    "    \\mathbf{P_{2}} = \\mathbf{P_2} \\cdot \\mathbf{I} = \\mathbf{P_2} \\cdot \\mathbf{P_1}^{-1} \\cdot \\mathbf{P_1} = \\mathbf{T_{12}} \\cdot \\mathbf{P_1}\n",
    "\\end{equation}\n",
    "\n",
    "where\n",
    "\n",
    "\\begin{equation}\n",
    "    \\mathbf{T_{12}} = \\mathbf{P_2} \\cdot \\mathbf{P_1}^{-1}\n",
    "\\end{equation}"
   ]
  },
  {
   "cell_type": "code",
   "execution_count": 62,
   "metadata": {},
   "outputs": [
    {
     "name": "stdout",
     "output_type": "stream",
     "text": [
      "Robot's new coordinate frame matrix:\n",
      "[[ 6.123234e-17 -1.000000e+00  1.000000e+00]\n",
      " [ 1.000000e+00  6.123234e-17  1.000000e+00]\n",
      " [ 0.000000e+00  0.000000e+00  1.000000e+00]]\n",
      "Transformation matrix from P1 to P2:\n",
      "[[ 6.123234e-17 -1.000000e+00  3.000000e+00]\n",
      " [ 1.000000e+00  6.123234e-17 -3.000000e+00]\n",
      " [ 0.000000e+00  0.000000e+00  1.000000e+00]]\n"
     ]
    }
   ],
   "source": [
    "# Robot's new position\n",
    "x2, y2, theta2 = 1, 1, np.pi/2\n",
    "p2 = (x2, y2, theta2)\n",
    "P2 = system_matrix(*p2)\n",
    "print(\"Robot's new coordinate frame matrix:\")\n",
    "print(P2)\n",
    "\n",
    "# Transformation matrix\n",
    "print(\"Transformation matrix from P1 to P2:\")\n",
    "T_12 = P2.dot(P1_inv)\n",
    "print(T_12)\n",
    "\n",
    "# Make sure that T_12 transforms P1 to P2\n",
    "assert np.allclose(P2, T_12.dot(P1))"
   ]
  },
  {
   "cell_type": "markdown",
   "metadata": {},
   "source": [
    "The robot is at position $ \\mathbf{p_2} $. The landmark's position w.r.t. the robot’s local frame is now:\n",
    "\n",
    "\\begin{equation}\n",
    "\\begin{cases}\n",
    "    \\mathbf{l_{global}} = \\mathbf{P_1} \\cdot \\mathbf{l_{local}^{P_1}} \\\\\n",
    "    \\mathbf{l_{global}} = \\mathbf{P_2} \\cdot \\mathbf{l_{local}^{P_2}}\n",
    "\\end{cases}\n",
    "\\end{equation}\n",
    "\n",
    "\\begin{equation}\n",
    "\\mathbf{P_1} \\cdot \\mathbf{l_{local}^{P_1}} = \\mathbf{P_2} \\cdot \\mathbf{l_{local}^{P_2}} \\\\\n",
    "\\end{equation}\n",
    "\n",
    "Therefore:\n",
    "\n",
    "\\begin{equation}\n",
    "    \\mathbf{l_{local}^{P_2}} = \\mathbf{P_2}^{-1} \\cdot \\mathbf{P_1} \\cdot \\mathbf{l_{local}^{P_1}}\n",
    "\\end{equation}"
   ]
  },
  {
   "cell_type": "code",
   "execution_count": 63,
   "metadata": {},
   "outputs": [
    {
     "name": "stdout",
     "output_type": "stream",
     "text": [
      "Landmark's local position vector in the robot's new coordinate frame:\n",
      "[ 6. -1.  1.]\n"
     ]
    }
   ],
   "source": [
    "# Landmarks position w.r.t. P2\n",
    "l_local_P1 = l_local\n",
    "l_local_P2 = inv_system_matrix(P2).dot(P1).dot(l_local_P1)\n",
    "print(\"Landmark's local position vector in the robot's new coordinate frame:\")\n",
    "print(l_local_P2)"
   ]
  }
 ],
 "metadata": {
  "kernelspec": {
   "display_name": "Python 3",
   "language": "python",
   "name": "python3"
  },
  "language_info": {
   "codemirror_mode": {
    "name": "ipython",
    "version": 3
   },
   "file_extension": ".py",
   "mimetype": "text/x-python",
   "name": "python",
   "nbconvert_exporter": "python",
   "pygments_lexer": "ipython3",
   "version": "3.6.5"
  }
 },
 "nbformat": 4,
 "nbformat_minor": 2
}
