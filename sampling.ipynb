{
 "cells": [
  {
   "cell_type": "markdown",
   "metadata": {},
   "source": [
    "# Sampling"
   ]
  },
  {
   "cell_type": "code",
   "execution_count": 1,
   "metadata": {},
   "outputs": [],
   "source": [
    "import numpy as np\n",
    "import matplotlib.pyplot as plt"
   ]
  },
  {
   "cell_type": "markdown",
   "metadata": {},
   "source": [
    "## 1-dimensional Gaussian probability density function (PDF), $ \\mathcal{N}(\\mu, \\sigma^{2})$"
   ]
  },
  {
   "cell_type": "code",
   "execution_count": 5,
   "metadata": {},
   "outputs": [],
   "source": [
    "class GaussianPDF:\n",
    "\n",
    "    def __init__(self, mean, stddev):\n",
    "        self.mean = mean\n",
    "        self.stddev = stddev\n",
    "\n",
    "    def __call__(self, x):\n",
    "        return np.exp(-np.square((x - self.mean) / self.stddev) / 2) / (self.stddev * np.sqrt(2 * np.pi))"
   ]
  },
  {
   "cell_type": "markdown",
   "metadata": {},
   "source": [
    "## [Rejection sampling](https://en.wikipedia.org/wiki/Rejection_sampling)\n",
    "\n",
    "1. Sample a point on the x-axis from the proposal distribution (uniform distribution $ U $ here).\n",
    "2. Draw a vertical line at this x-position, up to the curve of the proposal distribution (normal distribution $ \\mathcal{N} $ here).\n",
    "3. Sample uniformly along this line from 0 to the maximum of the probability density function.  \n",
    "If the sampled value is greater than the value of the desired distribution at this vertical line, return to step 1."
   ]
  },
  {
   "cell_type": "code",
   "execution_count": 6,
   "metadata": {},
   "outputs": [],
   "source": [
    "def rejection_sampling(f, interval, maximum):\n",
    "    left, right = interval\n",
    "    x = np.random.uniform(left, right)\n",
    "    y = np.random.uniform(0, maximum)\n",
    "    if f(x) > y:\n",
    "        return x\n",
    "    else:\n",
    "        return rejection_sampling(f, interval, maximum)"
   ]
  },
  {
   "cell_type": "markdown",
   "metadata": {},
   "source": [
    "## [Sampling from a normal distribution](https://en.wikipedia.org/wiki/Normal_distribution#Generating_values_from_normal_distribution)"
   ]
  },
  {
   "cell_type": "markdown",
   "metadata": {},
   "source": [
    "### [Sum of 12 uniform distributions (Irwin-Hall)](https://en.wikipedia.org/wiki/Irwin–Hall_distribution)\n",
    "\n",
    "$$ X = \\sum_{i = 1}^{12} U[-b, b] $$\n"
   ]
  },
  {
   "cell_type": "code",
   "execution_count": 10,
   "metadata": {},
   "outputs": [],
   "source": [
    "def normal_uniform_sum(mean, stddev):\n",
    "    return sum(np.random.uniform(-stddev, stddev) for _ in range(12)) / 2 + mean"
   ]
  },
  {
   "cell_type": "code",
   "execution_count": 18,
   "metadata": {},
   "outputs": [
    {
     "data": {
      "image/png": "[encoded data removed]",
      "text/plain": [
       "<Figure size 432x288 with 1 Axes>"
      ]
     },
     "metadata": {},
     "output_type": "display_data"
    }
   ],
   "source": [
    "samples = [normal_uniform_sum(0, 5) for _ in range(100000)]\n",
    "plt.hist(samples, bins=100)\n",
    "plt.title(\"Sum of the uniforms\")\n",
    "plt.show()"
   ]
  },
  {
   "cell_type": "markdown",
   "metadata": {},
   "source": [
    "### Using the rejection sampling"
   ]
  },
  {
   "cell_type": "code",
   "execution_count": 12,
   "metadata": {},
   "outputs": [],
   "source": [
    "def normal_rejection(mean, stddev):\n",
    "    f = GaussianPDF(mean, stddev)\n",
    "    return rejection_sampling(f, (-6 * stddev, 6 * stddev), f(mean))"
   ]
  },
  {
   "cell_type": "code",
   "execution_count": 21,
   "metadata": {},
   "outputs": [
    {
     "data": {
      "image/png": "[encoded data removed]",
      "text/plain": [
       "<Figure size 432x288 with 1 Axes>"
      ]
     },
     "metadata": {},
     "output_type": "display_data"
    }
   ],
   "source": [
    "samples = [normal_rejection(0, 5) for _ in range(100000)]\n",
    "plt.hist(samples, bins=100)\n",
    "plt.title(\"Rejection sampling\")\n",
    "plt.show()"
   ]
  },
  {
   "cell_type": "markdown",
   "metadata": {},
   "source": [
    "### [Using the Box–Muller transform](https://en.wikipedia.org/wiki/Box–Muller_transform)\n",
    "\n",
    "$$ u_1 \\sim U[0, 1] $$\n",
    "$$ u_2 \\sim U[0, 1] $$\n",
    "\n",
    "$$ X = \\cos{2\\pi u_1} \\sqrt{-2 \\log{u_2}} $$"
   ]
  },
  {
   "cell_type": "code",
   "execution_count": 15,
   "metadata": {},
   "outputs": [],
   "source": [
    "def normal_box_muller(mean, stddev):\n",
    "    u1 = np.random.uniform()\n",
    "    u2 = np.random.uniform()\n",
    "    return np.cos(2 * np.pi * u1) * np.sqrt(-2 * np.log(u2)) * stddev + mean"
   ]
  },
  {
   "cell_type": "code",
   "execution_count": 23,
   "metadata": {},
   "outputs": [
    {
     "data": {
      "image/png": "[encoded data removed]",
      "text/plain": [
       "<Figure size 432x288 with 1 Axes>"
      ]
     },
     "metadata": {},
     "output_type": "display_data"
    }
   ],
   "source": [
    "samples = [normal_box_muller(0, 5) for _ in range(100000)]\n",
    "plt.hist(samples, bins=100)\n",
    "plt.title(\"Box-Muller transform\")\n",
    "plt.show()"
   ]
  }
 ],
 "metadata": {
  "kernelspec": {
   "display_name": "Python 3",
   "language": "python",
   "name": "python3"
  },
  "language_info": {
   "codemirror_mode": {
    "name": "ipython",
    "version": 3
   },
   "file_extension": ".py",
   "mimetype": "text/x-python",
   "name": "python",
   "nbconvert_exporter": "python",
   "pygments_lexer": "ipython3",
   "version": "3.6.5"
  }
 },
 "nbformat": 4,
 "nbformat_minor": 2
}
