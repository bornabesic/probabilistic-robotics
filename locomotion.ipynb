{
 "cells": [
  {
   "cell_type": "markdown",
   "metadata": {},
   "source": [
    "# Locomotion\n",
    "\n",
    "## Differential drive\n",
    "\n",
    "$ (x, y, \\theta) $ - the pose of the robot  \n",
    "$ v_l $, $ v_r $ - the speed of the left and right wheel  \n",
    "$ t $ - the driving time  \n",
    "$ l $ - the distance between the wheels  \n",
    "\n",
    "Radius:\n",
    "\n",
    "$$ R = \\frac{l}{2} \\frac{v_r + v_l}{v_r - v_l} $$\n",
    "\n",
    "ICC - Instantaneous center of curvature:\n",
    "\n",
    "$$ ICC = [ x - R \\sin{\\theta} , y + R \\cos{\\theta} ] $$\n",
    "\n",
    "Angular speed:\n",
    "\n",
    "$$ \\omega = \\frac{v_r - v_l}{l} $$\n",
    "\n",
    "### Forward kinematics\n",
    "\n",
    "\\begin{equation}\n",
    "    \\begin{pmatrix}\n",
    "    x' \\\\\n",
    "    y' \\\\\n",
    "    \\theta'\n",
    "    \\end{pmatrix} = \n",
    "    \\begin{pmatrix}\n",
    "    \\cos{\\omega t} & -\\sin{\\omega t} & 0\\\\\n",
    "    \\sin{\\omega t} & \\cos{\\omega t}  & 0\\\\\n",
    "    0 & 0 & 1\n",
    "    \\end{pmatrix} \\cdot\n",
    "    \\begin{pmatrix}\n",
    "    x - ICC_{x} \\\\\n",
    "    y - ICC{y} \\\\\n",
    "    \\theta\n",
    "    \\end{pmatrix} +\n",
    "    \\begin{pmatrix}\n",
    "    ICC_{x} \\\\\n",
    "    ICC{y} \\\\\n",
    "    \\omega t\n",
    "    \\end{pmatrix}\n",
    "\\end{equation}\n"
   ]
  },
  {
   "cell_type": "code",
   "execution_count": 16,
   "metadata": {},
   "outputs": [],
   "source": [
    "import numpy as np\n",
    "import matplotlib.pyplot as plt"
   ]
  },
  {
   "cell_type": "code",
   "execution_count": 13,
   "metadata": {},
   "outputs": [],
   "source": [
    "def diffdrive(x, y, theta, v_l, v_r, t, l):\n",
    "    '''\n",
    "    x - starting x coordinate\n",
    "    y - starting y coordinate\n",
    "    theta - starting orientation\n",
    "    v_l - velocity of the left wheel\n",
    "    v_r - velocity of the right wheel\n",
    "    t - driving time\n",
    "    l - distance between the wheels\n",
    "    '''\n",
    "\n",
    "    # v_l = v_r -> robot goes straight (v_r - v_l == 0 means the radius is infinite)\n",
    "    if v_l == v_r:\n",
    "        v = (v_l + v_r) / 2\n",
    "        s = v * t\n",
    "        x_n = x + s * np.cos(theta)\n",
    "        y_n = y + s * np.sin(theta)\n",
    "        theta_n = theta\n",
    "\n",
    "    # v_l != v_r -> robot circles\n",
    "    else:\n",
    "        R = (l / 2) * ((v_r + v_l) / (v_r - v_l))\n",
    "        x_ICC = x - R * np.sin(theta)\n",
    "        y_ICC = y + R * np.cos(theta)\n",
    "        omega = (v_r - v_l) / l\n",
    "        dtheta = omega * t\n",
    "        theta_n = theta + dtheta\n",
    "        dx = x - x_ICC\n",
    "        dy = y - y_ICC\n",
    "        x_n = x_ICC + dx * np.cos(dtheta) - dy * np.sin(dtheta)\n",
    "        y_n = y_ICC + dx * np.sin(dtheta) + dy * np.cos(dtheta)\n",
    "\n",
    "    return x_n, y_n, theta_n"
   ]
  },
  {
   "cell_type": "markdown",
   "metadata": {},
   "source": [
    "### Example\n",
    "\n",
    "The distance $ l $ between the wheels of the robot is $ 0.5 m $.  \n",
    "After reaching position $ x = 1.5 m, y = 2.0 m, \\theta = \\frac{\\pi}{2}$, the robot executes the following sequence of steering commands:\n",
    "$$ c_1 = (v_l = 0.3 m/s, v_r = 0.3 m/s, t = 3 s) $$\n",
    "$$ c_2 = (v_l = 0.1 m/s, v_r = -0.1 m/s, t = 1 s) $$\n",
    "$$ c_3 = (v_l = 0.2 m/s, v_r = 0 m/s, t = 2 s) $$\n",
    "The position of the robot after the execution of each command in the sequence is:"
   ]
  },
  {
   "cell_type": "code",
   "execution_count": 40,
   "metadata": {},
   "outputs": [
    {
     "name": "stdout",
     "output_type": "stream",
     "text": [
      "Executing c1...\n",
      "p1 = (1.500000, 2.900000, 1.570796)\n",
      "Executing c2...\n",
      "p2 = (1.500000, 2.900000, 1.170796)\n",
      "Executing c3...\n",
      "p3 = (1.639676, 3.035655, 0.370796)\n"
     ]
    },
    {
     "data": {
      "image/png": "[encoded data removed]",
      "text/plain": [
       "<Figure size 432x288 with 1 Axes>"
      ]
     },
     "metadata": {},
     "output_type": "display_data"
    }
   ],
   "source": [
    "l = 0.5\n",
    "\n",
    "x, y, theta = 1.5, 2, np.pi / 2\n",
    "\n",
    "commands = [\n",
    "    (0.3, 0.3, 3),  # c1\n",
    "    (0.1, -0.1, 1), # c2\n",
    "    (0.2, 0, 2)     # c3\n",
    "]\n",
    "\n",
    "for i, (v_l, v_r, t) in enumerate(commands):\n",
    "    print(\"Executing c{}...\".format(i + 1))\n",
    "    x, y, theta = diffdrive(x, y, theta, v_l, v_r, t, l)    \n",
    "    print(\"p{} = ({:2f}, {:2f}, {:2f})\".format(i + 1, x, y, theta))\n",
    "    plt.scatter([x], [y])\n",
    "    plt.text(x, y, \"p{}\".format(i + 1))\n",
    "\n",
    "plt.grid()"
   ]
  }
 ],
 "metadata": {
  "kernelspec": {
   "display_name": "Python 3",
   "language": "python",
   "name": "python3"
  },
  "language_info": {
   "codemirror_mode": {
    "name": "ipython",
    "version": 3
   },
   "file_extension": ".py",
   "mimetype": "text/x-python",
   "name": "python",
   "nbconvert_exporter": "python",
   "pygments_lexer": "ipython3",
   "version": "3.6.5"
  }
 },
 "nbformat": 4,
 "nbformat_minor": 2
}
